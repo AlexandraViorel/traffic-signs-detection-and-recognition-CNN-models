{
 "cells": [
  {
   "cell_type": "code",
   "execution_count": 1,
   "metadata": {},
   "outputs": [],
   "source": [
    "from keras.models import Sequential\n",
    "from keras.layers import BatchNormalization, Conv2D, MaxPooling2D, Activation, Flatten, Dropout, Dense, RandomFlip, RandomRotation\n",
    "import os\n",
    "from PIL import Image\n",
    "import numpy as np\n",
    "from sklearn.model_selection import train_test_split\n",
    "from keras.utils import to_categorical\n",
    "import matplotlib.pyplot as plt\n",
    "from keras.optimizers import Adam\n",
    "from keras._tf_keras.keras.preprocessing.image import ImageDataGenerator\n",
    "import random\n",
    "from skimage import io, transform, exposure\n",
    "from sklearn.metrics import classification_report"
   ]
  },
  {
   "cell_type": "code",
   "execution_count": null,
   "metadata": {},
   "outputs": [],
   "source": [
    "image_list = []\n",
    "labels_list = []\n",
    "classes = 43\n",
    "\n",
    "root_dir=r'D:\\Faculty materials\\bachelors\\datasets\\GTSRB\\Train'\n",
    "\n",
    "try:\n",
    "    for traffic_sign_class in range(classes):\n",
    "        print(f\"[INFO] Processing {traffic_sign_class} ...\")\n",
    "        path = os.path.join(root_dir, str(traffic_sign_class))\n",
    "        traffic_sign_class_images = os.listdir(path)\n",
    "        for image in traffic_sign_class_images:\n",
    "            try:\n",
    "                img = Image.open(path + \"/\" + image)\n",
    "                img = img.resize((45, 45))\n",
    "                img = np.array(img)\n",
    "                image_list.append(img)\n",
    "                labels_list.append(traffic_sign_class)\n",
    "            except Exception as err:\n",
    "                print(f\"[ERROR]: On loading image!\")\n",
    "\n",
    "except Exception as err:\n",
    "    print(f\"[ERROR]: {err}\")\n",
    "\n",
    "image_list = np.array(image_list, dtype=np.float16) / 255.0 # the image_list is normalized and converted to np array\n",
    "labels_list = np.array(labels_list)"
   ]
  }
 ],
 "metadata": {
  "kernelspec": {
   "display_name": ".venv",
   "language": "python",
   "name": "python3"
  },
  "language_info": {
   "codemirror_mode": {
    "name": "ipython",
    "version": 3
   },
   "file_extension": ".py",
   "mimetype": "text/x-python",
   "name": "python",
   "nbconvert_exporter": "python",
   "pygments_lexer": "ipython3",
   "version": "3.10.10"
  }
 },
 "nbformat": 4,
 "nbformat_minor": 2
}
